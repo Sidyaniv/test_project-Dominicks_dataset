{
 "cells": [
  {
   "cell_type": "code",
   "execution_count": 79,
   "metadata": {},
   "outputs": [],
   "source": [
    "# %pip install pandas numpy matplotlib seaborn scikit-learn pyarrow Jinja2"
   ]
  },
  {
   "cell_type": "code",
   "execution_count": 80,
   "metadata": {},
   "outputs": [],
   "source": [
    "import pandas as pd \n",
    "import numpy as np\n",
    "import matplotlib.pyplot as plt\n"
   ]
  },
  {
   "cell_type": "code",
   "execution_count": 81,
   "metadata": {},
   "outputs": [],
   "source": [
    "import os\n",
    "from IPython.display import display\n",
    "\n",
    "\n",
    "data_folder = './data_for_test_arch/'\n",
    "\n",
    "ana_sales_df = pd.read_parquet(os.path.join(data_folder, 'ana_sales_data.parquet'))\n",
    "ana_upc_df = pd.read_parquet(os.path.join(data_folder, 'ana_upc.parquet'))\n",
    "beer_sales_df = pd.read_parquet(os.path.join(data_folder, 'beer_sales_data.parquet'))\n",
    "beer_upc_df = pd.read_parquet(os.path.join(data_folder, 'beer_upc.parquet'))\n",
    "cig_sales_df = pd.read_parquet(os.path.join(data_folder, 'cig_sales_data.parquet'))\n",
    "cig_upc_df = pd.read_parquet(os.path.join(data_folder, 'cig_upc.parquet'))\n",
    "demographics_df = pd.read_parquet(os.path.join(data_folder, 'demographic_data.parquet'))\n"
   ]
  },
  {
   "cell_type": "markdown",
   "metadata": {},
   "source": [
    "## Отображаем основные данные о таблицах "
   ]
  },
  {
   "cell_type": "markdown",
   "metadata": {},
   "source": [
    "---"
   ]
  },
  {
   "cell_type": "code",
   "execution_count": 107,
   "metadata": {},
   "outputs": [
    {
     "name": "stdout",
     "output_type": "stream",
     "text": [
      "<class 'pandas.core.frame.DataFrame'>\n",
      "Index: 7241655 entries, 0 to 7339216\n",
      "Data columns (total 7 columns):\n",
      " #   Column  Dtype  \n",
      "---  ------  -----  \n",
      " 0   store   float64\n",
      " 1   upc     float64\n",
      " 2   week    float64\n",
      " 3   move    float64\n",
      " 4   qty     float64\n",
      " 5   price   float64\n",
      " 6   sale    object \n",
      "dtypes: float64(6), object(1)\n",
      "memory usage: 442.0+ MB\n"
     ]
    },
    {
     "data": {
      "text/plain": [
       "None"
      ]
     },
     "metadata": {},
     "output_type": "display_data"
    },
    {
     "data": {
      "text/html": [
       "<style type=\"text/css\">\n",
       "</style>\n",
       "<table id=\"T_7d965\">\n",
       "  <caption>ana_sales head</caption>\n",
       "  <thead>\n",
       "    <tr>\n",
       "      <th class=\"blank level0\" >&nbsp;</th>\n",
       "      <th id=\"T_7d965_level0_col0\" class=\"col_heading level0 col0\" >store</th>\n",
       "      <th id=\"T_7d965_level0_col1\" class=\"col_heading level0 col1\" >upc</th>\n",
       "      <th id=\"T_7d965_level0_col2\" class=\"col_heading level0 col2\" >week</th>\n",
       "      <th id=\"T_7d965_level0_col3\" class=\"col_heading level0 col3\" >move</th>\n",
       "      <th id=\"T_7d965_level0_col4\" class=\"col_heading level0 col4\" >qty</th>\n",
       "      <th id=\"T_7d965_level0_col5\" class=\"col_heading level0 col5\" >price</th>\n",
       "      <th id=\"T_7d965_level0_col6\" class=\"col_heading level0 col6\" >sale</th>\n",
       "    </tr>\n",
       "  </thead>\n",
       "  <tbody>\n",
       "    <tr>\n",
       "      <th id=\"T_7d965_level0_row0\" class=\"row_heading level0 row0\" >0</th>\n",
       "      <td id=\"T_7d965_row0_col0\" class=\"data row0 col0\" >5.183540</td>\n",
       "      <td id=\"T_7d965_row0_col1\" class=\"data row0 col1\" >5.183540</td>\n",
       "      <td id=\"T_7d965_row0_col2\" class=\"data row0 col2\" >5.183540</td>\n",
       "      <td id=\"T_7d965_row0_col3\" class=\"data row0 col3\" >5.183540</td>\n",
       "      <td id=\"T_7d965_row0_col4\" class=\"data row0 col4\" >5.183540</td>\n",
       "      <td id=\"T_7d965_row0_col5\" class=\"data row0 col5\" >5.183540</td>\n",
       "      <td id=\"T_7d965_row0_col6\" class=\"data row0 col6\" >5.183540</td>\n",
       "    </tr>\n",
       "    <tr>\n",
       "      <th id=\"T_7d965_level0_row1\" class=\"row_heading level0 row1\" >1</th>\n",
       "      <td id=\"T_7d965_row1_col0\" class=\"data row1 col0\" >76.000000</td>\n",
       "      <td id=\"T_7d965_row1_col1\" class=\"data row1 col1\" >1192603016.000000</td>\n",
       "      <td id=\"T_7d965_row1_col2\" class=\"data row1 col2\" >307.000000</td>\n",
       "      <td id=\"T_7d965_row1_col3\" class=\"data row1 col3\" >1.000000</td>\n",
       "      <td id=\"T_7d965_row1_col4\" class=\"data row1 col4\" >1.000000</td>\n",
       "      <td id=\"T_7d965_row1_col5\" class=\"data row1 col5\" >2.990000</td>\n",
       "      <td id=\"T_7d965_row1_col6\" class=\"data row1 col6\" >None</td>\n",
       "    </tr>\n",
       "    <tr>\n",
       "      <th id=\"T_7d965_level0_row2\" class=\"row_heading level0 row2\" >2</th>\n",
       "      <td id=\"T_7d965_row2_col0\" class=\"data row2 col0\" >5.183540</td>\n",
       "      <td id=\"T_7d965_row2_col1\" class=\"data row2 col1\" >5.183540</td>\n",
       "      <td id=\"T_7d965_row2_col2\" class=\"data row2 col2\" >5.183540</td>\n",
       "      <td id=\"T_7d965_row2_col3\" class=\"data row2 col3\" >5.183540</td>\n",
       "      <td id=\"T_7d965_row2_col4\" class=\"data row2 col4\" >5.183540</td>\n",
       "      <td id=\"T_7d965_row2_col5\" class=\"data row2 col5\" >5.183540</td>\n",
       "      <td id=\"T_7d965_row2_col6\" class=\"data row2 col6\" >5.183540</td>\n",
       "    </tr>\n",
       "    <tr>\n",
       "      <th id=\"T_7d965_level0_row3\" class=\"row_heading level0 row3\" >3</th>\n",
       "      <td id=\"T_7d965_row3_col0\" class=\"data row3 col0\" >5.183540</td>\n",
       "      <td id=\"T_7d965_row3_col1\" class=\"data row3 col1\" >5.183540</td>\n",
       "      <td id=\"T_7d965_row3_col2\" class=\"data row3 col2\" >5.183540</td>\n",
       "      <td id=\"T_7d965_row3_col3\" class=\"data row3 col3\" >5.183540</td>\n",
       "      <td id=\"T_7d965_row3_col4\" class=\"data row3 col4\" >5.183540</td>\n",
       "      <td id=\"T_7d965_row3_col5\" class=\"data row3 col5\" >5.183540</td>\n",
       "      <td id=\"T_7d965_row3_col6\" class=\"data row3 col6\" >5.183540</td>\n",
       "    </tr>\n",
       "    <tr>\n",
       "      <th id=\"T_7d965_level0_row4\" class=\"row_heading level0 row4\" >4</th>\n",
       "      <td id=\"T_7d965_row4_col0\" class=\"data row4 col0\" >5.183540</td>\n",
       "      <td id=\"T_7d965_row4_col1\" class=\"data row4 col1\" >5.183540</td>\n",
       "      <td id=\"T_7d965_row4_col2\" class=\"data row4 col2\" >5.183540</td>\n",
       "      <td id=\"T_7d965_row4_col3\" class=\"data row4 col3\" >5.183540</td>\n",
       "      <td id=\"T_7d965_row4_col4\" class=\"data row4 col4\" >5.183540</td>\n",
       "      <td id=\"T_7d965_row4_col5\" class=\"data row4 col5\" >5.183540</td>\n",
       "      <td id=\"T_7d965_row4_col6\" class=\"data row4 col6\" >5.183540</td>\n",
       "    </tr>\n",
       "  </tbody>\n",
       "</table>\n"
      ],
      "text/plain": [
       "<pandas.io.formats.style.Styler at 0x747c4a114f40>"
      ]
     },
     "metadata": {},
     "output_type": "display_data"
    },
    {
     "name": "stdout",
     "output_type": "stream",
     "text": [
      "<class 'pandas.core.frame.DataFrame'>\n",
      "RangeIndex: 641 entries, 0 to 640\n",
      "Data columns (total 6 columns):\n",
      " #   Column    Non-Null Count  Dtype \n",
      "---  ------    --------------  ----- \n",
      " 0   com_code  641 non-null    int64 \n",
      " 1   upc       641 non-null    int64 \n",
      " 2   descrip   641 non-null    object\n",
      " 3   size      641 non-null    object\n",
      " 4   case      641 non-null    int64 \n",
      " 5   nitem     641 non-null    int64 \n",
      "dtypes: int64(4), object(2)\n",
      "memory usage: 30.2+ KB\n"
     ]
    },
    {
     "data": {
      "text/plain": [
       "None"
      ]
     },
     "metadata": {},
     "output_type": "display_data"
    },
    {
     "data": {
      "text/html": [
       "<style type=\"text/css\">\n",
       "</style>\n",
       "<table id=\"T_c7d8e\">\n",
       "  <caption>ana_upc head</caption>\n",
       "  <thead>\n",
       "    <tr>\n",
       "      <th class=\"blank level0\" >&nbsp;</th>\n",
       "      <th id=\"T_c7d8e_level0_col0\" class=\"col_heading level0 col0\" >com_code</th>\n",
       "      <th id=\"T_c7d8e_level0_col1\" class=\"col_heading level0 col1\" >upc</th>\n",
       "      <th id=\"T_c7d8e_level0_col2\" class=\"col_heading level0 col2\" >descrip</th>\n",
       "      <th id=\"T_c7d8e_level0_col3\" class=\"col_heading level0 col3\" >size</th>\n",
       "      <th id=\"T_c7d8e_level0_col4\" class=\"col_heading level0 col4\" >case</th>\n",
       "      <th id=\"T_c7d8e_level0_col5\" class=\"col_heading level0 col5\" >nitem</th>\n",
       "    </tr>\n",
       "  </thead>\n",
       "  <tbody>\n",
       "    <tr>\n",
       "      <th id=\"T_c7d8e_level0_row0\" class=\"row_heading level0 row0\" >0</th>\n",
       "      <td id=\"T_c7d8e_row0_col0\" class=\"data row0 col0\" >953</td>\n",
       "      <td id=\"T_c7d8e_row0_col1\" class=\"data row0 col1\" >1192603016</td>\n",
       "      <td id=\"T_c7d8e_row0_col2\" class=\"data row0 col2\" >CAFFEDRINE CAPLETS 1</td>\n",
       "      <td id=\"T_c7d8e_row0_col3\" class=\"data row0 col3\" >16 CT</td>\n",
       "      <td id=\"T_c7d8e_row0_col4\" class=\"data row0 col4\" >6</td>\n",
       "      <td id=\"T_c7d8e_row0_col5\" class=\"data row0 col5\" >7342431</td>\n",
       "    </tr>\n",
       "    <tr>\n",
       "      <th id=\"T_c7d8e_level0_row1\" class=\"row_heading level0 row1\" >1</th>\n",
       "      <td id=\"T_c7d8e_row1_col0\" class=\"data row1 col0\" >953</td>\n",
       "      <td id=\"T_c7d8e_row1_col1\" class=\"data row1 col1\" >1192662108</td>\n",
       "      <td id=\"T_c7d8e_row1_col2\" class=\"data row1 col2\" >SLEEPINAL SOFTGEL</td>\n",
       "      <td id=\"T_c7d8e_row1_col3\" class=\"data row1 col3\" >8 CT</td>\n",
       "      <td id=\"T_c7d8e_row1_col4\" class=\"data row1 col4\" >6</td>\n",
       "      <td id=\"T_c7d8e_row1_col5\" class=\"data row1 col5\" >7333311</td>\n",
       "    </tr>\n",
       "    <tr>\n",
       "      <th id=\"T_c7d8e_level0_row2\" class=\"row_heading level0 row2\" >2</th>\n",
       "      <td id=\"T_c7d8e_row2_col0\" class=\"data row2 col0\" >953</td>\n",
       "      <td id=\"T_c7d8e_row2_col1\" class=\"data row2 col1\" >1650001020</td>\n",
       "      <td id=\"T_c7d8e_row2_col2\" class=\"data row2 col2\" >NERVINE TABS</td>\n",
       "      <td id=\"T_c7d8e_row2_col3\" class=\"data row2 col3\" >30 CT</td>\n",
       "      <td id=\"T_c7d8e_row2_col4\" class=\"data row2 col4\" >1</td>\n",
       "      <td id=\"T_c7d8e_row2_col5\" class=\"data row2 col5\" >8430820</td>\n",
       "    </tr>\n",
       "    <tr>\n",
       "      <th id=\"T_c7d8e_level0_row3\" class=\"row_heading level0 row3\" >3</th>\n",
       "      <td id=\"T_c7d8e_row3_col0\" class=\"data row3 col0\" >953</td>\n",
       "      <td id=\"T_c7d8e_row3_col1\" class=\"data row3 col1\" >1650001022</td>\n",
       "      <td id=\"T_c7d8e_row3_col2\" class=\"data row3 col2\" >NERVINE SLEEP AID</td>\n",
       "      <td id=\"T_c7d8e_row3_col3\" class=\"data row3 col3\" >12 CT</td>\n",
       "      <td id=\"T_c7d8e_row3_col4\" class=\"data row3 col4\" >1</td>\n",
       "      <td id=\"T_c7d8e_row3_col5\" class=\"data row3 col5\" >8430840</td>\n",
       "    </tr>\n",
       "    <tr>\n",
       "      <th id=\"T_c7d8e_level0_row4\" class=\"row_heading level0 row4\" >4</th>\n",
       "      <td id=\"T_c7d8e_row4_col0\" class=\"data row4 col0\" >953</td>\n",
       "      <td id=\"T_c7d8e_row4_col1\" class=\"data row4 col1\" >1650004106</td>\n",
       "      <td id=\"T_c7d8e_row4_col2\" class=\"data row4 col2\" >ALKA-SELTZER GOLD</td>\n",
       "      <td id=\"T_c7d8e_row4_col3\" class=\"data row4 col3\" >20 CT</td>\n",
       "      <td id=\"T_c7d8e_row4_col4\" class=\"data row4 col4\" >1</td>\n",
       "      <td id=\"T_c7d8e_row4_col5\" class=\"data row4 col5\" >8430880</td>\n",
       "    </tr>\n",
       "  </tbody>\n",
       "</table>\n"
      ],
      "text/plain": [
       "<pandas.io.formats.style.Styler at 0x747c56ace140>"
      ]
     },
     "metadata": {},
     "output_type": "display_data"
    }
   ],
   "source": [
    "display(ana_sales_df.info(), \n",
    "        ana_sales_df.head().style.set_caption('ana_sales head')\n",
    "        )\n",
    " \n",
    "display(ana_upc_df.info(), \n",
    "        ana_upc_df.head().style.set_caption('ana_upc head')\n",
    "        )"
   ]
  },
  {
   "cell_type": "markdown",
   "metadata": {},
   "source": [
    "---"
   ]
  },
  {
   "cell_type": "code",
   "execution_count": 83,
   "metadata": {},
   "outputs": [
    {
     "data": {
      "text/html": [
       "<style type=\"text/css\">\n",
       "</style>\n",
       "<table id=\"T_093b8\">\n",
       "  <caption>beer_sales head</caption>\n",
       "  <thead>\n",
       "    <tr>\n",
       "      <th class=\"blank level0\" >&nbsp;</th>\n",
       "      <th id=\"T_093b8_level0_col0\" class=\"col_heading level0 col0\" >store</th>\n",
       "      <th id=\"T_093b8_level0_col1\" class=\"col_heading level0 col1\" >upc</th>\n",
       "      <th id=\"T_093b8_level0_col2\" class=\"col_heading level0 col2\" >week</th>\n",
       "      <th id=\"T_093b8_level0_col3\" class=\"col_heading level0 col3\" >move</th>\n",
       "      <th id=\"T_093b8_level0_col4\" class=\"col_heading level0 col4\" >qty</th>\n",
       "      <th id=\"T_093b8_level0_col5\" class=\"col_heading level0 col5\" >price</th>\n",
       "      <th id=\"T_093b8_level0_col6\" class=\"col_heading level0 col6\" >sale</th>\n",
       "    </tr>\n",
       "  </thead>\n",
       "  <tbody>\n",
       "    <tr>\n",
       "      <th id=\"T_093b8_level0_row0\" class=\"row_heading level0 row0\" >0</th>\n",
       "      <td id=\"T_093b8_row0_col0\" class=\"data row0 col0\" >2</td>\n",
       "      <td id=\"T_093b8_row0_col1\" class=\"data row0 col1\" >294</td>\n",
       "      <td id=\"T_093b8_row0_col2\" class=\"data row0 col2\" >298</td>\n",
       "      <td id=\"T_093b8_row0_col3\" class=\"data row0 col3\" >11</td>\n",
       "      <td id=\"T_093b8_row0_col4\" class=\"data row0 col4\" >1</td>\n",
       "      <td id=\"T_093b8_row0_col5\" class=\"data row0 col5\" >2.620000</td>\n",
       "      <td id=\"T_093b8_row0_col6\" class=\"data row0 col6\" >None</td>\n",
       "    </tr>\n",
       "    <tr>\n",
       "      <th id=\"T_093b8_level0_row1\" class=\"row_heading level0 row1\" >1</th>\n",
       "      <td id=\"T_093b8_row1_col0\" class=\"data row1 col0\" >2</td>\n",
       "      <td id=\"T_093b8_row1_col1\" class=\"data row1 col1\" >294</td>\n",
       "      <td id=\"T_093b8_row1_col2\" class=\"data row1 col2\" >299</td>\n",
       "      <td id=\"T_093b8_row1_col3\" class=\"data row1 col3\" >9</td>\n",
       "      <td id=\"T_093b8_row1_col4\" class=\"data row1 col4\" >1</td>\n",
       "      <td id=\"T_093b8_row1_col5\" class=\"data row1 col5\" >2.510000</td>\n",
       "      <td id=\"T_093b8_row1_col6\" class=\"data row1 col6\" >None</td>\n",
       "    </tr>\n",
       "    <tr>\n",
       "      <th id=\"T_093b8_level0_row2\" class=\"row_heading level0 row2\" >2</th>\n",
       "      <td id=\"T_093b8_row2_col0\" class=\"data row2 col0\" >2</td>\n",
       "      <td id=\"T_093b8_row2_col1\" class=\"data row2 col1\" >294</td>\n",
       "      <td id=\"T_093b8_row2_col2\" class=\"data row2 col2\" >300</td>\n",
       "      <td id=\"T_093b8_row2_col3\" class=\"data row2 col3\" >6</td>\n",
       "      <td id=\"T_093b8_row2_col4\" class=\"data row2 col4\" >1</td>\n",
       "      <td id=\"T_093b8_row2_col5\" class=\"data row2 col5\" >2.490000</td>\n",
       "      <td id=\"T_093b8_row2_col6\" class=\"data row2 col6\" >None</td>\n",
       "    </tr>\n",
       "    <tr>\n",
       "      <th id=\"T_093b8_level0_row3\" class=\"row_heading level0 row3\" >3</th>\n",
       "      <td id=\"T_093b8_row3_col0\" class=\"data row3 col0\" >2</td>\n",
       "      <td id=\"T_093b8_row3_col1\" class=\"data row3 col1\" >294</td>\n",
       "      <td id=\"T_093b8_row3_col2\" class=\"data row3 col2\" >301</td>\n",
       "      <td id=\"T_093b8_row3_col3\" class=\"data row3 col3\" >5</td>\n",
       "      <td id=\"T_093b8_row3_col4\" class=\"data row3 col4\" >1</td>\n",
       "      <td id=\"T_093b8_row3_col5\" class=\"data row3 col5\" >2.990000</td>\n",
       "      <td id=\"T_093b8_row3_col6\" class=\"data row3 col6\" >None</td>\n",
       "    </tr>\n",
       "    <tr>\n",
       "      <th id=\"T_093b8_level0_row4\" class=\"row_heading level0 row4\" >4</th>\n",
       "      <td id=\"T_093b8_row4_col0\" class=\"data row4 col0\" >2</td>\n",
       "      <td id=\"T_093b8_row4_col1\" class=\"data row4 col1\" >294</td>\n",
       "      <td id=\"T_093b8_row4_col2\" class=\"data row4 col2\" >302</td>\n",
       "      <td id=\"T_093b8_row4_col3\" class=\"data row4 col3\" >1</td>\n",
       "      <td id=\"T_093b8_row4_col4\" class=\"data row4 col4\" >1</td>\n",
       "      <td id=\"T_093b8_row4_col5\" class=\"data row4 col5\" >2.490000</td>\n",
       "      <td id=\"T_093b8_row4_col6\" class=\"data row4 col6\" >None</td>\n",
       "    </tr>\n",
       "  </tbody>\n",
       "</table>\n"
      ],
      "text/plain": [
       "<pandas.io.formats.style.Styler at 0x747c63def010>"
      ]
     },
     "metadata": {},
     "output_type": "display_data"
    },
    {
     "data": {
      "text/html": [
       "<style type=\"text/css\">\n",
       "</style>\n",
       "<table id=\"T_3a1b2\">\n",
       "  <caption>beer_upc head</caption>\n",
       "  <thead>\n",
       "    <tr>\n",
       "      <th class=\"blank level0\" >&nbsp;</th>\n",
       "      <th id=\"T_3a1b2_level0_col0\" class=\"col_heading level0 col0\" >com_code</th>\n",
       "      <th id=\"T_3a1b2_level0_col1\" class=\"col_heading level0 col1\" >upc</th>\n",
       "      <th id=\"T_3a1b2_level0_col2\" class=\"col_heading level0 col2\" >descrip</th>\n",
       "      <th id=\"T_3a1b2_level0_col3\" class=\"col_heading level0 col3\" >size</th>\n",
       "      <th id=\"T_3a1b2_level0_col4\" class=\"col_heading level0 col4\" >case</th>\n",
       "      <th id=\"T_3a1b2_level0_col5\" class=\"col_heading level0 col5\" >nitem</th>\n",
       "    </tr>\n",
       "  </thead>\n",
       "  <tbody>\n",
       "    <tr>\n",
       "      <th id=\"T_3a1b2_level0_row0\" class=\"row_heading level0 row0\" >0</th>\n",
       "      <td id=\"T_3a1b2_row0_col0\" class=\"data row0 col0\" >27</td>\n",
       "      <td id=\"T_3a1b2_row0_col1\" class=\"data row0 col1\" >294</td>\n",
       "      <td id=\"T_3a1b2_row0_col2\" class=\"data row0 col2\" >BEER LIMIT</td>\n",
       "      <td id=\"T_3a1b2_row0_col3\" class=\"data row0 col3\" >12/12O</td>\n",
       "      <td id=\"T_3a1b2_row0_col4\" class=\"data row0 col4\" >2</td>\n",
       "      <td id=\"T_3a1b2_row0_col5\" class=\"data row0 col5\" >9990180</td>\n",
       "    </tr>\n",
       "    <tr>\n",
       "      <th id=\"T_3a1b2_level0_row1\" class=\"row_heading level0 row1\" >1</th>\n",
       "      <td id=\"T_3a1b2_row1_col0\" class=\"data row1 col0\" >26</td>\n",
       "      <td id=\"T_3a1b2_row1_col1\" class=\"data row1 col1\" >307</td>\n",
       "      <td id=\"T_3a1b2_row1_col2\" class=\"data row1 col2\" >HEINEKEN KINGSIZE CA</td>\n",
       "      <td id=\"T_3a1b2_row1_col3\" class=\"data row1 col3\" >259 OZ</td>\n",
       "      <td id=\"T_3a1b2_row1_col4\" class=\"data row1 col4\" >1</td>\n",
       "      <td id=\"T_3a1b2_row1_col5\" class=\"data row1 col5\" >9490410</td>\n",
       "    </tr>\n",
       "    <tr>\n",
       "      <th id=\"T_3a1b2_level0_row2\" class=\"row_heading level0 row2\" >2</th>\n",
       "      <td id=\"T_3a1b2_row2_col0\" class=\"data row2 col0\" >27</td>\n",
       "      <td id=\"T_3a1b2_row2_col1\" class=\"data row2 col1\" >710</td>\n",
       "      <td id=\"T_3a1b2_row2_col2\" class=\"data row2 col2\" >BUDWEISER BEER</td>\n",
       "      <td id=\"T_3a1b2_row2_col3\" class=\"data row2 col3\" >24/12O</td>\n",
       "      <td id=\"T_3a1b2_row2_col4\" class=\"data row2 col4\" >1</td>\n",
       "      <td id=\"T_3a1b2_row2_col5\" class=\"data row2 col5\" >9402300</td>\n",
       "    </tr>\n",
       "    <tr>\n",
       "      <th id=\"T_3a1b2_level0_row3\" class=\"row_heading level0 row3\" >3</th>\n",
       "      <td id=\"T_3a1b2_row3_col0\" class=\"data row3 col0\" >27</td>\n",
       "      <td id=\"T_3a1b2_row3_col1\" class=\"data row3 col1\" >711</td>\n",
       "      <td id=\"T_3a1b2_row3_col2\" class=\"data row3 col2\" >BUDWEISER DRY BEER</td>\n",
       "      <td id=\"T_3a1b2_row3_col3\" class=\"data row3 col3\" >24/12O</td>\n",
       "      <td id=\"T_3a1b2_row3_col4\" class=\"data row3 col4\" >1</td>\n",
       "      <td id=\"T_3a1b2_row3_col5\" class=\"data row3 col5\" >9402650</td>\n",
       "    </tr>\n",
       "    <tr>\n",
       "      <th id=\"T_3a1b2_level0_row4\" class=\"row_heading level0 row4\" >4</th>\n",
       "      <td id=\"T_3a1b2_row4_col0\" class=\"data row4 col0\" >27</td>\n",
       "      <td id=\"T_3a1b2_row4_col1\" class=\"data row4 col1\" >712</td>\n",
       "      <td id=\"T_3a1b2_row4_col2\" class=\"data row4 col2\" >BUDWEISER LIGHT BEER</td>\n",
       "      <td id=\"T_3a1b2_row4_col3\" class=\"data row4 col3\" >24/12O</td>\n",
       "      <td id=\"T_3a1b2_row4_col4\" class=\"data row4 col4\" >1</td>\n",
       "      <td id=\"T_3a1b2_row4_col5\" class=\"data row4 col5\" >9402600</td>\n",
       "    </tr>\n",
       "  </tbody>\n",
       "</table>\n"
      ],
      "text/plain": [
       "<pandas.io.formats.style.Styler at 0x747c63deed40>"
      ]
     },
     "metadata": {},
     "output_type": "display_data"
    },
    {
     "name": "stdout",
     "output_type": "stream",
     "text": [
      "<class 'pandas.core.frame.DataFrame'>\n",
      "RangeIndex: 790 entries, 0 to 789\n",
      "Data columns (total 6 columns):\n",
      " #   Column    Non-Null Count  Dtype \n",
      "---  ------    --------------  ----- \n",
      " 0   com_code  790 non-null    int64 \n",
      " 1   upc       790 non-null    int64 \n",
      " 2   descrip   790 non-null    object\n",
      " 3   size      790 non-null    object\n",
      " 4   case      790 non-null    int64 \n",
      " 5   nitem     790 non-null    int64 \n",
      "dtypes: int64(4), object(2)\n",
      "memory usage: 37.2+ KB\n",
      "<class 'pandas.core.frame.DataFrame'>\n",
      "Index: 3967720 entries, 0 to 3990671\n",
      "Data columns (total 7 columns):\n",
      " #   Column  Dtype  \n",
      "---  ------  -----  \n",
      " 0   store   int64  \n",
      " 1   upc     int64  \n",
      " 2   week    int64  \n",
      " 3   move    int64  \n",
      " 4   qty     int64  \n",
      " 5   price   float64\n",
      " 6   sale    object \n",
      "dtypes: float64(1), int64(5), object(1)\n",
      "memory usage: 242.2+ MB\n"
     ]
    },
    {
     "data": {
      "text/plain": [
       "None"
      ]
     },
     "metadata": {},
     "output_type": "display_data"
    },
    {
     "data": {
      "text/plain": [
       "None"
      ]
     },
     "metadata": {},
     "output_type": "display_data"
    }
   ],
   "source": [
    "\n",
    "display(beer_sales_df.head().style.set_caption('beer_sales head'), \n",
    "        beer_upc_df.head().style.set_caption('beer_upc head'))\n",
    "display(beer_upc_df.info(), beer_sales_df.info())"
   ]
  },
  {
   "cell_type": "markdown",
   "metadata": {},
   "source": [
    "---"
   ]
  },
  {
   "cell_type": "code",
   "execution_count": 84,
   "metadata": {},
   "outputs": [
    {
     "data": {
      "text/html": [
       "<style type=\"text/css\">\n",
       "</style>\n",
       "<table id=\"T_a4e51\">\n",
       "  <caption>cig_sales head</caption>\n",
       "  <thead>\n",
       "    <tr>\n",
       "      <th class=\"blank level0\" >&nbsp;</th>\n",
       "      <th id=\"T_a4e51_level0_col0\" class=\"col_heading level0 col0\" >store</th>\n",
       "      <th id=\"T_a4e51_level0_col1\" class=\"col_heading level0 col1\" >upc</th>\n",
       "      <th id=\"T_a4e51_level0_col2\" class=\"col_heading level0 col2\" >week</th>\n",
       "      <th id=\"T_a4e51_level0_col3\" class=\"col_heading level0 col3\" >move</th>\n",
       "      <th id=\"T_a4e51_level0_col4\" class=\"col_heading level0 col4\" >qty</th>\n",
       "      <th id=\"T_a4e51_level0_col5\" class=\"col_heading level0 col5\" >price</th>\n",
       "      <th id=\"T_a4e51_level0_col6\" class=\"col_heading level0 col6\" >sale</th>\n",
       "    </tr>\n",
       "  </thead>\n",
       "  <tbody>\n",
       "    <tr>\n",
       "      <th id=\"T_a4e51_level0_row0\" class=\"row_heading level0 row0\" >0</th>\n",
       "      <td id=\"T_a4e51_row0_col0\" class=\"data row0 col0\" >8</td>\n",
       "      <td id=\"T_a4e51_row0_col1\" class=\"data row0 col1\" >190</td>\n",
       "      <td id=\"T_a4e51_row0_col2\" class=\"data row0 col2\" >194</td>\n",
       "      <td id=\"T_a4e51_row0_col3\" class=\"data row0 col3\" >0</td>\n",
       "      <td id=\"T_a4e51_row0_col4\" class=\"data row0 col4\" >1</td>\n",
       "      <td id=\"T_a4e51_row0_col5\" class=\"data row0 col5\" >0.000000</td>\n",
       "      <td id=\"T_a4e51_row0_col6\" class=\"data row0 col6\" >None</td>\n",
       "    </tr>\n",
       "    <tr>\n",
       "      <th id=\"T_a4e51_level0_row1\" class=\"row_heading level0 row1\" >1</th>\n",
       "      <td id=\"T_a4e51_row1_col0\" class=\"data row1 col0\" >8</td>\n",
       "      <td id=\"T_a4e51_row1_col1\" class=\"data row1 col1\" >190</td>\n",
       "      <td id=\"T_a4e51_row1_col2\" class=\"data row1 col2\" >195</td>\n",
       "      <td id=\"T_a4e51_row1_col3\" class=\"data row1 col3\" >2</td>\n",
       "      <td id=\"T_a4e51_row1_col4\" class=\"data row1 col4\" >1</td>\n",
       "      <td id=\"T_a4e51_row1_col5\" class=\"data row1 col5\" >21.510000</td>\n",
       "      <td id=\"T_a4e51_row1_col6\" class=\"data row1 col6\" >None</td>\n",
       "    </tr>\n",
       "    <tr>\n",
       "      <th id=\"T_a4e51_level0_row2\" class=\"row_heading level0 row2\" >2</th>\n",
       "      <td id=\"T_a4e51_row2_col0\" class=\"data row2 col0\" >8</td>\n",
       "      <td id=\"T_a4e51_row2_col1\" class=\"data row2 col1\" >190</td>\n",
       "      <td id=\"T_a4e51_row2_col2\" class=\"data row2 col2\" >196</td>\n",
       "      <td id=\"T_a4e51_row2_col3\" class=\"data row2 col3\" >0</td>\n",
       "      <td id=\"T_a4e51_row2_col4\" class=\"data row2 col4\" >1</td>\n",
       "      <td id=\"T_a4e51_row2_col5\" class=\"data row2 col5\" >0.000000</td>\n",
       "      <td id=\"T_a4e51_row2_col6\" class=\"data row2 col6\" >None</td>\n",
       "    </tr>\n",
       "    <tr>\n",
       "      <th id=\"T_a4e51_level0_row3\" class=\"row_heading level0 row3\" >3</th>\n",
       "      <td id=\"T_a4e51_row3_col0\" class=\"data row3 col0\" >8</td>\n",
       "      <td id=\"T_a4e51_row3_col1\" class=\"data row3 col1\" >190</td>\n",
       "      <td id=\"T_a4e51_row3_col2\" class=\"data row3 col2\" >197</td>\n",
       "      <td id=\"T_a4e51_row3_col3\" class=\"data row3 col3\" >0</td>\n",
       "      <td id=\"T_a4e51_row3_col4\" class=\"data row3 col4\" >1</td>\n",
       "      <td id=\"T_a4e51_row3_col5\" class=\"data row3 col5\" >0.000000</td>\n",
       "      <td id=\"T_a4e51_row3_col6\" class=\"data row3 col6\" >None</td>\n",
       "    </tr>\n",
       "    <tr>\n",
       "      <th id=\"T_a4e51_level0_row4\" class=\"row_heading level0 row4\" >4</th>\n",
       "      <td id=\"T_a4e51_row4_col0\" class=\"data row4 col0\" >8</td>\n",
       "      <td id=\"T_a4e51_row4_col1\" class=\"data row4 col1\" >190</td>\n",
       "      <td id=\"T_a4e51_row4_col2\" class=\"data row4 col2\" >198</td>\n",
       "      <td id=\"T_a4e51_row4_col3\" class=\"data row4 col3\" >0</td>\n",
       "      <td id=\"T_a4e51_row4_col4\" class=\"data row4 col4\" >1</td>\n",
       "      <td id=\"T_a4e51_row4_col5\" class=\"data row4 col5\" >0.000000</td>\n",
       "      <td id=\"T_a4e51_row4_col6\" class=\"data row4 col6\" >None</td>\n",
       "    </tr>\n",
       "  </tbody>\n",
       "</table>\n"
      ],
      "text/plain": [
       "<pandas.io.formats.style.Styler at 0x747c5ef470d0>"
      ]
     },
     "metadata": {},
     "output_type": "display_data"
    },
    {
     "data": {
      "text/html": [
       "<style type=\"text/css\">\n",
       "</style>\n",
       "<table id=\"T_58188\">\n",
       "  <caption>cig_upc head</caption>\n",
       "  <thead>\n",
       "    <tr>\n",
       "      <th class=\"blank level0\" >&nbsp;</th>\n",
       "      <th id=\"T_58188_level0_col0\" class=\"col_heading level0 col0\" >com_code</th>\n",
       "      <th id=\"T_58188_level0_col1\" class=\"col_heading level0 col1\" >upc</th>\n",
       "      <th id=\"T_58188_level0_col2\" class=\"col_heading level0 col2\" >descrip</th>\n",
       "      <th id=\"T_58188_level0_col3\" class=\"col_heading level0 col3\" >size</th>\n",
       "      <th id=\"T_58188_level0_col4\" class=\"col_heading level0 col4\" >case</th>\n",
       "      <th id=\"T_58188_level0_col5\" class=\"col_heading level0 col5\" >nitem</th>\n",
       "    </tr>\n",
       "  </thead>\n",
       "  <tbody>\n",
       "    <tr>\n",
       "      <th id=\"T_58188_level0_row0\" class=\"row_heading level0 row0\" >0</th>\n",
       "      <td id=\"T_58188_row0_col0\" class=\"data row0 col0\" >700</td>\n",
       "      <td id=\"T_58188_row0_col1\" class=\"data row0 col1\" >190</td>\n",
       "      <td id=\"T_58188_row0_col2\" class=\"data row0 col2\" >KING CARTON CIGS (PL</td>\n",
       "      <td id=\"T_58188_row0_col3\" class=\"data row0 col3\" >1 CT</td>\n",
       "      <td id=\"T_58188_row0_col4\" class=\"data row0 col4\" >1</td>\n",
       "      <td id=\"T_58188_row0_col5\" class=\"data row0 col5\" >86040</td>\n",
       "    </tr>\n",
       "    <tr>\n",
       "      <th id=\"T_58188_level0_row1\" class=\"row_heading level0 row1\" >1</th>\n",
       "      <td id=\"T_58188_row1_col0\" class=\"data row1 col0\" >700</td>\n",
       "      <td id=\"T_58188_row1_col1\" class=\"data row1 col1\" >191</td>\n",
       "      <td id=\"T_58188_row1_col2\" class=\"data row1 col2\" >100'S CARTON CIGS (P</td>\n",
       "      <td id=\"T_58188_row1_col3\" class=\"data row1 col3\" >1 CT</td>\n",
       "      <td id=\"T_58188_row1_col4\" class=\"data row1 col4\" >1</td>\n",
       "      <td id=\"T_58188_row1_col5\" class=\"data row1 col5\" >86060</td>\n",
       "    </tr>\n",
       "    <tr>\n",
       "      <th id=\"T_58188_level0_row2\" class=\"row_heading level0 row2\" >2</th>\n",
       "      <td id=\"T_58188_row2_col0\" class=\"data row2 col0\" >705</td>\n",
       "      <td id=\"T_58188_row2_col1\" class=\"data row2 col1\" >193</td>\n",
       "      <td id=\"T_58188_row2_col2\" class=\"data row2 col2\" >25 CT SINGLE PACK CI</td>\n",
       "      <td id=\"T_58188_row2_col3\" class=\"data row2 col3\" >1 CT</td>\n",
       "      <td id=\"T_58188_row2_col4\" class=\"data row2 col4\" >8</td>\n",
       "      <td id=\"T_58188_row2_col5\" class=\"data row2 col5\" >80080</td>\n",
       "    </tr>\n",
       "    <tr>\n",
       "      <th id=\"T_58188_level0_row3\" class=\"row_heading level0 row3\" >3</th>\n",
       "      <td id=\"T_58188_row3_col0\" class=\"data row3 col0\" >705</td>\n",
       "      <td id=\"T_58188_row3_col1\" class=\"data row3 col1\" >194</td>\n",
       "      <td id=\"T_58188_row3_col2\" class=\"data row3 col2\" >GENERIC SINGLE</td>\n",
       "      <td id=\"T_58188_row3_col3\" class=\"data row3 col3\" >1 CT</td>\n",
       "      <td id=\"T_58188_row3_col4\" class=\"data row3 col4\" >10</td>\n",
       "      <td id=\"T_58188_row3_col5\" class=\"data row3 col5\" >80020</td>\n",
       "    </tr>\n",
       "    <tr>\n",
       "      <th id=\"T_58188_level0_row4\" class=\"row_heading level0 row4\" >4</th>\n",
       "      <td id=\"T_58188_row4_col0\" class=\"data row4 col0\" >700</td>\n",
       "      <td id=\"T_58188_row4_col1\" class=\"data row4 col1\" >195</td>\n",
       "      <td id=\"T_58188_row4_col2\" class=\"data row4 col2\" >KING CARTON PRICE VA</td>\n",
       "      <td id=\"T_58188_row4_col3\" class=\"data row4 col3\" >1 CT</td>\n",
       "      <td id=\"T_58188_row4_col4\" class=\"data row4 col4\" >1</td>\n",
       "      <td id=\"T_58188_row4_col5\" class=\"data row4 col5\" >86050</td>\n",
       "    </tr>\n",
       "  </tbody>\n",
       "</table>\n"
      ],
      "text/plain": [
       "<pandas.io.formats.style.Styler at 0x747c4a117c10>"
      ]
     },
     "metadata": {},
     "output_type": "display_data"
    },
    {
     "name": "stdout",
     "output_type": "stream",
     "text": [
      "<class 'pandas.core.frame.DataFrame'>\n",
      "RangeIndex: 942 entries, 0 to 941\n",
      "Data columns (total 6 columns):\n",
      " #   Column    Non-Null Count  Dtype \n",
      "---  ------    --------------  ----- \n",
      " 0   com_code  942 non-null    int64 \n",
      " 1   upc       942 non-null    int64 \n",
      " 2   descrip   942 non-null    object\n",
      " 3   size      942 non-null    object\n",
      " 4   case      942 non-null    int64 \n",
      " 5   nitem     942 non-null    int64 \n",
      "dtypes: int64(4), object(2)\n",
      "memory usage: 44.3+ KB\n",
      "<class 'pandas.core.frame.DataFrame'>\n",
      "Index: 5331369 entries, 0 to 5398196\n",
      "Data columns (total 7 columns):\n",
      " #   Column  Dtype  \n",
      "---  ------  -----  \n",
      " 0   store   int64  \n",
      " 1   upc     int64  \n",
      " 2   week    int64  \n",
      " 3   move    int64  \n",
      " 4   qty     int64  \n",
      " 5   price   float64\n",
      " 6   sale    object \n",
      "dtypes: float64(1), int64(5), object(1)\n",
      "memory usage: 325.4+ MB\n"
     ]
    },
    {
     "data": {
      "text/plain": [
       "None"
      ]
     },
     "metadata": {},
     "output_type": "display_data"
    },
    {
     "data": {
      "text/plain": [
       "None"
      ]
     },
     "metadata": {},
     "output_type": "display_data"
    }
   ],
   "source": [
    "\n",
    "display(cig_sales_df.head().style.set_caption('cig_sales head'), \n",
    "        cig_upc_df.head().style.set_caption('cig_upc head'))\n",
    "display(cig_upc_df.info(), cig_sales_df.info())"
   ]
  },
  {
   "cell_type": "markdown",
   "metadata": {},
   "source": [
    "---"
   ]
  },
  {
   "cell_type": "code",
   "execution_count": 85,
   "metadata": {},
   "outputs": [
    {
     "data": {
      "text/html": [
       "<style type=\"text/css\">\n",
       "</style>\n",
       "<table id=\"T_7ea77\">\n",
       "  <caption>demographics head</caption>\n",
       "  <thead>\n",
       "    <tr>\n",
       "      <th class=\"blank level0\" >&nbsp;</th>\n",
       "      <th id=\"T_7ea77_level0_col0\" class=\"col_heading level0 col0\" >store</th>\n",
       "      <th id=\"T_7ea77_level0_col1\" class=\"col_heading level0 col1\" >age60</th>\n",
       "      <th id=\"T_7ea77_level0_col2\" class=\"col_heading level0 col2\" >age9</th>\n",
       "      <th id=\"T_7ea77_level0_col3\" class=\"col_heading level0 col3\" >educ</th>\n",
       "      <th id=\"T_7ea77_level0_col4\" class=\"col_heading level0 col4\" >ethnic</th>\n",
       "      <th id=\"T_7ea77_level0_col5\" class=\"col_heading level0 col5\" >income</th>\n",
       "      <th id=\"T_7ea77_level0_col6\" class=\"col_heading level0 col6\" >hhlarge</th>\n",
       "      <th id=\"T_7ea77_level0_col7\" class=\"col_heading level0 col7\" >workwom</th>\n",
       "      <th id=\"T_7ea77_level0_col8\" class=\"col_heading level0 col8\" >hval150</th>\n",
       "      <th id=\"T_7ea77_level0_col9\" class=\"col_heading level0 col9\" >sstrdist</th>\n",
       "      <th id=\"T_7ea77_level0_col10\" class=\"col_heading level0 col10\" >sstrvol</th>\n",
       "      <th id=\"T_7ea77_level0_col11\" class=\"col_heading level0 col11\" >cpdist5</th>\n",
       "      <th id=\"T_7ea77_level0_col12\" class=\"col_heading level0 col12\" >cpwvol5</th>\n",
       "    </tr>\n",
       "  </thead>\n",
       "  <tbody>\n",
       "    <tr>\n",
       "      <th id=\"T_7ea77_level0_row0\" class=\"row_heading level0 row0\" >1</th>\n",
       "      <td id=\"T_7ea77_row0_col0\" class=\"data row0 col0\" >2.000000</td>\n",
       "      <td id=\"T_7ea77_row0_col1\" class=\"data row0 col1\" >0.232865</td>\n",
       "      <td id=\"T_7ea77_row0_col2\" class=\"data row0 col2\" >0.117509</td>\n",
       "      <td id=\"T_7ea77_row0_col3\" class=\"data row0 col3\" >0.248935</td>\n",
       "      <td id=\"T_7ea77_row0_col4\" class=\"data row0 col4\" >0.114280</td>\n",
       "      <td id=\"T_7ea77_row0_col5\" class=\"data row0 col5\" >10.553205</td>\n",
       "      <td id=\"T_7ea77_row0_col6\" class=\"data row0 col6\" >0.103953</td>\n",
       "      <td id=\"T_7ea77_row0_col7\" class=\"data row0 col7\" >0.303585</td>\n",
       "      <td id=\"T_7ea77_row0_col8\" class=\"data row0 col8\" >0.463887</td>\n",
       "      <td id=\"T_7ea77_row0_col9\" class=\"data row0 col9\" >2.110122</td>\n",
       "      <td id=\"T_7ea77_row0_col10\" class=\"data row0 col10\" >1.142857</td>\n",
       "      <td id=\"T_7ea77_row0_col11\" class=\"data row0 col11\" >1.927280</td>\n",
       "      <td id=\"T_7ea77_row0_col12\" class=\"data row0 col12\" >0.376927</td>\n",
       "    </tr>\n",
       "    <tr>\n",
       "      <th id=\"T_7ea77_level0_row1\" class=\"row_heading level0 row1\" >2</th>\n",
       "      <td id=\"T_7ea77_row1_col0\" class=\"data row1 col0\" >4.000000</td>\n",
       "      <td id=\"T_7ea77_row1_col1\" class=\"data row1 col1\" >0.262030</td>\n",
       "      <td id=\"T_7ea77_row1_col2\" class=\"data row1 col2\" >0.095090</td>\n",
       "      <td id=\"T_7ea77_row1_col3\" class=\"data row1 col3\" >0.220789</td>\n",
       "      <td id=\"T_7ea77_row1_col4\" class=\"data row1 col4\" >0.062161</td>\n",
       "      <td id=\"T_7ea77_row1_col5\" class=\"data row1 col5\" >10.646972</td>\n",
       "      <td id=\"T_7ea77_row1_col6\" class=\"data row1 col6\" >0.088123</td>\n",
       "      <td id=\"T_7ea77_row1_col7\" class=\"data row1 col7\" >0.362122</td>\n",
       "      <td id=\"T_7ea77_row1_col8\" class=\"data row1 col8\" >0.522236</td>\n",
       "      <td id=\"T_7ea77_row1_col9\" class=\"data row1 col9\" >2.373200</td>\n",
       "      <td id=\"T_7ea77_row1_col10\" class=\"data row1 col10\" >1.000000</td>\n",
       "      <td id=\"T_7ea77_row1_col11\" class=\"data row1 col11\" >1.104470</td>\n",
       "      <td id=\"T_7ea77_row1_col12\" class=\"data row1 col12\" >0.772489</td>\n",
       "    </tr>\n",
       "    <tr>\n",
       "      <th id=\"T_7ea77_level0_row2\" class=\"row_heading level0 row2\" >3</th>\n",
       "      <td id=\"T_7ea77_row2_col0\" class=\"data row2 col0\" >5.000000</td>\n",
       "      <td id=\"T_7ea77_row2_col1\" class=\"data row2 col1\" >0.117368</td>\n",
       "      <td id=\"T_7ea77_row2_col2\" class=\"data row2 col2\" >0.141433</td>\n",
       "      <td id=\"T_7ea77_row2_col3\" class=\"data row2 col3\" >0.321226</td>\n",
       "      <td id=\"T_7ea77_row2_col4\" class=\"data row2 col4\" >0.053875</td>\n",
       "      <td id=\"T_7ea77_row2_col5\" class=\"data row2 col5\" >10.922371</td>\n",
       "      <td id=\"T_7ea77_row2_col6\" class=\"data row2 col6\" >0.103092</td>\n",
       "      <td id=\"T_7ea77_row2_col7\" class=\"data row2 col7\" >0.410568</td>\n",
       "      <td id=\"T_7ea77_row2_col8\" class=\"data row2 col8\" >0.535883</td>\n",
       "      <td id=\"T_7ea77_row2_col9\" class=\"data row2 col9\" >3.801998</td>\n",
       "      <td id=\"T_7ea77_row2_col10\" class=\"data row2 col10\" >0.681818</td>\n",
       "      <td id=\"T_7ea77_row2_col11\" class=\"data row2 col11\" >1.600573</td>\n",
       "      <td id=\"T_7ea77_row2_col12\" class=\"data row2 col12\" >0.736307</td>\n",
       "    </tr>\n",
       "    <tr>\n",
       "      <th id=\"T_7ea77_level0_row3\" class=\"row_heading level0 row3\" >4</th>\n",
       "      <td id=\"T_7ea77_row3_col0\" class=\"data row3 col0\" >8.000000</td>\n",
       "      <td id=\"T_7ea77_row3_col1\" class=\"data row3 col1\" >0.252394</td>\n",
       "      <td id=\"T_7ea77_row3_col2\" class=\"data row3 col2\" >0.123155</td>\n",
       "      <td id=\"T_7ea77_row3_col3\" class=\"data row3 col3\" >0.095173</td>\n",
       "      <td id=\"T_7ea77_row3_col4\" class=\"data row3 col4\" >0.035243</td>\n",
       "      <td id=\"T_7ea77_row3_col5\" class=\"data row3 col5\" >10.597010</td>\n",
       "      <td id=\"T_7ea77_row3_col6\" class=\"data row3 col6\" >0.131750</td>\n",
       "      <td id=\"T_7ea77_row3_col7\" class=\"data row3 col7\" >0.283075</td>\n",
       "      <td id=\"T_7ea77_row3_col8\" class=\"data row3 col8\" >0.054227</td>\n",
       "      <td id=\"T_7ea77_row3_col9\" class=\"data row3 col9\" >2.636333</td>\n",
       "      <td id=\"T_7ea77_row3_col10\" class=\"data row3 col10\" >1.500000</td>\n",
       "      <td id=\"T_7ea77_row3_col11\" class=\"data row3 col11\" >2.905384</td>\n",
       "      <td id=\"T_7ea77_row3_col12\" class=\"data row3 col12\" >0.641016</td>\n",
       "    </tr>\n",
       "    <tr>\n",
       "      <th id=\"T_7ea77_level0_row4\" class=\"row_heading level0 row4\" >5</th>\n",
       "      <td id=\"T_7ea77_row4_col0\" class=\"data row4 col0\" >9.000000</td>\n",
       "      <td id=\"T_7ea77_row4_col1\" class=\"data row4 col1\" >0.269119</td>\n",
       "      <td id=\"T_7ea77_row4_col2\" class=\"data row4 col2\" >0.103503</td>\n",
       "      <td id=\"T_7ea77_row4_col3\" class=\"data row4 col3\" >0.222172</td>\n",
       "      <td id=\"T_7ea77_row4_col4\" class=\"data row4 col4\" >0.032619</td>\n",
       "      <td id=\"T_7ea77_row4_col5\" class=\"data row4 col5\" >10.787151</td>\n",
       "      <td id=\"T_7ea77_row4_col6\" class=\"data row4 col6\" >0.096830</td>\n",
       "      <td id=\"T_7ea77_row4_col7\" class=\"data row4 col7\" >0.358995</td>\n",
       "      <td id=\"T_7ea77_row4_col8\" class=\"data row4 col8\" >0.505747</td>\n",
       "      <td id=\"T_7ea77_row4_col9\" class=\"data row4 col9\" >1.103279</td>\n",
       "      <td id=\"T_7ea77_row4_col10\" class=\"data row4 col10\" >0.666667</td>\n",
       "      <td id=\"T_7ea77_row4_col11\" class=\"data row4 col11\" >1.820474</td>\n",
       "      <td id=\"T_7ea77_row4_col12\" class=\"data row4 col12\" >0.441268</td>\n",
       "    </tr>\n",
       "  </tbody>\n",
       "</table>\n"
      ],
      "text/plain": [
       "<pandas.io.formats.style.Styler at 0x747c5ef45330>"
      ]
     },
     "metadata": {},
     "output_type": "display_data"
    },
    {
     "name": "stdout",
     "output_type": "stream",
     "text": [
      "<class 'pandas.core.frame.DataFrame'>\n",
      "Index: 107 entries, 1 to 107\n",
      "Data columns (total 13 columns):\n",
      " #   Column    Non-Null Count  Dtype  \n",
      "---  ------    --------------  -----  \n",
      " 0   store     107 non-null    float64\n",
      " 1   age60     97 non-null     float32\n",
      " 2   age9      97 non-null     float32\n",
      " 3   educ      97 non-null     float32\n",
      " 4   ethnic    97 non-null     float32\n",
      " 5   income    97 non-null     float32\n",
      " 6   hhlarge   97 non-null     float32\n",
      " 7   workwom   97 non-null     float32\n",
      " 8   hval150   97 non-null     float32\n",
      " 9   sstrdist  85 non-null     float32\n",
      " 10  sstrvol   85 non-null     float32\n",
      " 11  cpdist5   85 non-null     float32\n",
      " 12  cpwvol5   85 non-null     float32\n",
      "dtypes: float32(12), float64(1)\n",
      "memory usage: 6.7 KB\n"
     ]
    },
    {
     "data": {
      "text/plain": [
       "None"
      ]
     },
     "metadata": {},
     "output_type": "display_data"
    }
   ],
   "source": [
    "\n",
    "display(demographics_df.head().style.set_caption('demographics head'))\n",
    "display(demographics_df.info())"
   ]
  },
  {
   "cell_type": "code",
   "execution_count": null,
   "metadata": {},
   "outputs": [
    {
     "data": {
      "text/plain": [
       "array([953])"
      ]
     },
     "execution_count": 76,
     "metadata": {},
     "output_type": "execute_result"
    }
   ],
   "source": [
    "# Мусорные данные\n",
    "ana_upc_df['com_code']\n"
   ]
  },
  {
   "cell_type": "code",
   "execution_count": null,
   "metadata": {},
   "outputs": [
    {
     "data": {
      "text/plain": [
       "store    9153\n",
       "upc      9153\n",
       "week     9153\n",
       "move     9153\n",
       "qty      9153\n",
       "price    9153\n",
       "sale        1\n",
       "dtype: int64"
      ]
     },
     "execution_count": 104,
     "metadata": {},
     "output_type": "execute_result"
    }
   ],
   "source": [
    "ana_sales_df\n",
    "\n",
    "ana_sales_df.isna().sum()\n",
    "ana_sales_df['sale'].notna().sum()\n",
    "\n"
   ]
  },
  {
   "cell_type": "code",
   "execution_count": 108,
   "metadata": {},
   "outputs": [
    {
     "data": {
      "text/plain": [
       "store    9153\n",
       "upc      9153\n",
       "week     9153\n",
       "move     9153\n",
       "qty      9153\n",
       "price    9153\n",
       "sale        1\n",
       "dtype: int64"
      ]
     },
     "execution_count": 108,
     "metadata": {},
     "output_type": "execute_result"
    }
   ],
   "source": [
    "ana_sales_df['price'].min(), ana_sales_df['price'].max()\n",
    "ana_sales_df['price'].mean(), ana_sales_df['price'].median()\n",
    "\n",
    "non_price_rows = ana_sales_df['price'] == 0\n",
    "priced_rows = ana_sales_df['price'] > 0\n",
    "\n",
    "ana_sales_df[non_price_rows] = round(ana_sales_df[priced_rows]['price'].mean())\n",
    "ana_sales_df[ana_sales_df['price'] > 15].count()\n"
   ]
  },
  {
   "cell_type": "code",
   "execution_count": null,
   "metadata": {},
   "outputs": [
    {
     "data": {
      "text/plain": [
       "array([27, 26, 28])"
      ]
     },
     "execution_count": 77,
     "metadata": {},
     "output_type": "execute_result"
    }
   ],
   "source": [
    "beer_upc_df['com_code'].unique()"
   ]
  },
  {
   "cell_type": "code",
   "execution_count": null,
   "metadata": {},
   "outputs": [
    {
     "data": {
      "text/plain": [
       "array([700, 705])"
      ]
     },
     "execution_count": 78,
     "metadata": {},
     "output_type": "execute_result"
    }
   ],
   "source": [
    "cig_upc_df['com_code'].unique()"
   ]
  },
  {
   "cell_type": "markdown",
   "metadata": {},
   "source": [
    "---"
   ]
  }
 ],
 "metadata": {
  "kernelspec": {
   "display_name": ".venv",
   "language": "python",
   "name": "python3"
  },
  "language_info": {
   "codemirror_mode": {
    "name": "ipython",
    "version": 3
   },
   "file_extension": ".py",
   "mimetype": "text/x-python",
   "name": "python",
   "nbconvert_exporter": "python",
   "pygments_lexer": "ipython3",
   "version": "3.10.15"
  }
 },
 "nbformat": 4,
 "nbformat_minor": 2
}
